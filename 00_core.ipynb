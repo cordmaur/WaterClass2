{
 "cells": [
  {
   "cell_type": "code",
   "execution_count": null,
   "metadata": {},
   "outputs": [
    {
     "name": "stdout",
     "output_type": "stream",
     "text": [
      "The autoreload extension is already loaded. To reload it, use:\n",
      "  %reload_ext autoreload\n"
     ]
    }
   ],
   "source": [
    "from nbdev.showdoc import *\n",
    "from WaterClass2.core import s2bands, s2bands_norm\n",
    "\n",
    "%load_ext autoreload\n",
    "%autoreload 2"
   ]
  },
  {
   "cell_type": "markdown",
   "metadata": {},
   "source": [
    "# core\n",
    "\n",
    "> The core module has basic functions and overall definitions that are shared accross other modules. The most important are highlighted bellow"
   ]
  },
  {
   "cell_type": "markdown",
   "metadata": {},
   "source": [
    "## Definitions\n",
    "### Fixed bands for S2 sensor"
   ]
  },
  {
   "cell_type": "code",
   "execution_count": null,
   "metadata": {},
   "outputs": [
    {
     "name": "stdout",
     "output_type": "stream",
     "text": [
      "['443', '490', '560', '665', '705', '740', '783', '842', '865', '940']\n",
      "['n443', 'n490', 'n560', 'n665', 'n705', 'n740', 'n783', 'n842', 'n865', 'n940']\n"
     ]
    }
   ],
   "source": [
    "print(s2bands)\n",
    "print(s2bands_norm)"
   ]
  },
  {
   "cell_type": "markdown",
   "metadata": {},
   "source": [
    "## Functions"
   ]
  },
  {
   "cell_type": "code",
   "execution_count": null,
   "metadata": {},
   "outputs": [
    {
     "data": {
      "text/markdown": [
       "<h4 id=\"create_interpolated_columns\" class=\"doc_header\"><code>create_interpolated_columns</code><a href=\"https://github.com/cordmaur/WaterClass2/tree/master/WaterClass2/core.py#L54\" class=\"source_link\" style=\"float:right\">[source]</a></h4>\n",
       "\n",
       "> <code>create_interpolated_columns</code>(**`df`**, **`step`**=*`1`*, **`drop_original_columns`**=*`True`*, **`create_id`**=*`True`*, **`min_col`**=*`None`*, **`max_col`**=*`None`*)\n",
       "\n",
       "Create evenly spaced columns (wavelengths), according to a given step and interpolate the values linearly"
      ],
      "text/plain": [
       "<IPython.core.display.Markdown object>"
      ]
     },
     "metadata": {},
     "output_type": "display_data"
    }
   ],
   "source": [
    "from WaterClass2.core import create_interpolated_columns\n",
    "show_doc (create_interpolated_columns)"
   ]
  },
  {
   "cell_type": "code",
   "execution_count": null,
   "metadata": {},
   "outputs": [],
   "source": []
  }
 ],
 "metadata": {
  "kernelspec": {
   "display_name": "Python 3",
   "language": "python",
   "name": "python3"
  }
 },
 "nbformat": 4,
 "nbformat_minor": 4
}
