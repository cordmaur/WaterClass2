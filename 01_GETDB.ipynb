{
 "cells": [
  {
   "cell_type": "code",
   "execution_count": null,
   "metadata": {},
   "outputs": [],
   "source": [
    "#export\n",
    "from WaterClass2.Radiometry import RadiometryDB\n",
    "from nbdev.showdoc import *\n"
   ]
  },
  {
   "cell_type": "markdown",
   "metadata": {},
   "source": [
    "# GetDB - Database GETDB\n",
    "\n",
    "> This notebook explains the utilization of the `RadiometryDB` responsible for opening and manipulating a Radiometry db"
   ]
  },
  {
   "cell_type": "code",
   "execution_count": null,
   "metadata": {},
   "outputs": [
    {
     "data": {
      "text/markdown": [
       "<h2 id=\"RadiometryDB\" class=\"doc_header\"><code>class</code> <code>RadiometryDB</code><a href=\"https://github.com/cordmaur/WaterClass2/tree/master/WaterClass2/Radiometry.py#L1412\" class=\"source_link\" style=\"float:right\">[source]</a></h2>\n",
       "\n",
       "> <code>RadiometryDB</code>(**`path`**, **`config`**=*`None`*)\n",
       "\n",
       "Class responsible for loading the Radiometry Database and manipulating it."
      ],
      "text/plain": [
       "<IPython.core.display.Markdown object>"
      ]
     },
     "metadata": {},
     "output_type": "display_data"
    }
   ],
   "source": [
    "show_doc(RadiometryDB)"
   ]
  },
  {
   "cell_type": "code",
   "execution_count": null,
   "metadata": {},
   "outputs": [
    {
     "data": {
      "text/plain": [
       "Radiometry Database with 780 records and 329 stations"
      ]
     },
     "execution_count": null,
     "metadata": {},
     "output_type": "execute_result"
    }
   ],
   "source": [
    "db = RadiometryDB('D:/GET-RadiometryDB/')\n",
    "db"
   ]
  },
  {
   "cell_type": "code",
   "execution_count": null,
   "metadata": {},
   "outputs": [],
   "source": []
  }
 ],
 "metadata": {
  "kernelspec": {
   "display_name": "Python 3",
   "language": "python",
   "name": "python3"
  }
 },
 "nbformat": 4,
 "nbformat_minor": 4
}
